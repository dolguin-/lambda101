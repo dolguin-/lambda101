{
 "cells": [
  {
   "cell_type": "markdown",
   "metadata": {},
   "source": [
    "# Lambda 101 - Clase 2"
   ]
  },
  {
   "cell_type": "markdown",
   "metadata": {},
   "source": [
    "En esta clase nos vamos a familiarizar con los dos frameworks mas populares para trabajar con lambda **AWS SAM (Serverless Application Model)** y **Serverless Framework**"
   ]
  },
  {
   "cell_type": "markdown",
   "metadata": {},
   "source": [
    "## AWS SAM\n",
    "\n",
    "AWS SAM (de ahora en mas SAM), es un framework de codigo abierto para crear aplicaciones serverless (sin servidor) en AWS.\n",
    "\n",
    "SAM consiste en los siguientes componentes\n",
    "\n",
    "* Espesificaciones de plantillas de SAM:\n",
    "  \n",
    "  Utilice esta especificación para definir su aplicación sin servidor. Le proporcionara una sintaxis simple y limpia para describir las funciones, las API, los permisos, las configuraciones y los eventos que componen una aplicación sin servidor. Utiliza un archivo de plantilla de SAM para operar en una entidad única, implementable y versionada que es su aplicación sin servidor.\n",
    "\n",
    "* Interfaz de línea de comandos de SAM (SAM CLI):\n",
    "  \n",
    "  Esta herramienta sirve para crear aplicaciones sin servidor definidas por plantillas de AWS SAM. La CLI proporciona comandos que le permiten verificar que los archivos de plantilla de AWS SAM se escriben de acuerdo con la especificación, invocar las funciones de Lambda localmente, depurar paso a paso las funciones de Lambda, empaquetar e implementar aplicaciones sin servidor en la nube de AWS, etc.\n",
    "\n",
    "\n",
    "\n"
   ]
  },
  {
   "cell_type": "markdown",
   "metadata": {},
   "source": [
    "### Instalacion de SAM CLI"
   ]
  },
  {
   "cell_type": "markdown",
   "metadata": {},
   "source": [
    "En esta clase solo vamos a cubrir la instalacion para el sistema operativo Limux\n",
    "\n",
    "Las instrucciones oficiales de instalacion las pueden encontrar en [la documentacion oficial](https://docs.aws.amazon.com/es_es/serverless-application-model/latest/developerguide/serverless-sam-cli-install.html)\n",
    "\n",
    "**Instalacion**\n",
    "\n",
    "```shell\n",
    "# descargamos el instalador en formato zip para el sistema operativo y la arquitectura desada.\n",
    "wget https://github.com/aws/aws-sam-cli/releases/latest/download/aws-sam-cli-linux-x86_64.zip\n",
    "\n",
    "# descomprimimos el zip\n",
    "unzip aws-sam-cli-linux-x86_64.zip -d sam-installation\n",
    "\n",
    "# ejecutamos el instalador con privilegios elevados via sudo\n",
    "sudo ./sam-installation/install\n",
    "\n",
    "# verificamos la version\n",
    "sam --version\n",
    "```"
   ]
  },
  {
   "cell_type": "code",
   "execution_count": null,
   "metadata": {},
   "outputs": [],
   "source": [
    "!echo \"## descargamos el instalador en formato zip para el sistema operativo y la arquitectura desada.\"\n",
    "!wget -q --show-progress https://github.com/aws/aws-sam-cli/releases/latest/download/aws-sam-cli-linux-x86_64.zip\n",
    "\n",
    "!echo \"## descomprimimos el zip\"\n",
    "!unzip -q aws-sam-cli-linux-x86_64.zip -d sam-installation"
   ]
  },
  {
   "cell_type": "markdown",
   "metadata": {},
   "source": [
    "**Atencion**\n",
    "\n",
    "El comando sudo no puede ser ejecutado en el notebook por que requiere interaccion para ingresar el password, por esta razon van a tener que realizar este proceso directamente en la terminal. \n",
    "\n",
    "```shell\n",
    "# ejecutamos el instalador con privilegios elevados via sudo\n",
    "\n",
    "sudo ./sam-installation/install\n",
    "```"
   ]
  },
  {
   "cell_type": "code",
   "execution_count": null,
   "metadata": {},
   "outputs": [],
   "source": [
    "!echo \"## verificamos la version de SAM\"\n",
    "!sam --version\n",
    "\n",
    "!echo \"## Removemos la carpeta con los instaladores\"\n",
    "!rm ./sam-installation -r\n",
    "\n",
    "!echo \"## removemos el zip file\"\n",
    "!rm aws-sam-cli-linux-x86_64.zip"
   ]
  },
  {
   "cell_type": "markdown",
   "metadata": {},
   "source": [
    "## Tutorial Hola ~~Mundo~~ AWS101\n",
    "\n",
    "Ahora que tenemos sam instalado, vamos a realizar un pequeño tutorial en el que vamos a crear una funcion lambda que nos devuelva un ***Hola ~~Mundo~~ AWS101***\n",
    "\n",
    "*suposiciones*:\n",
    "* se asume que ya se dispone de credenciales configuradas para que SAM pueda autenticarse con AWS en nuestro nombre, [para informacion de como configurar las credenciales ir a la documentacion](https://docs.aws.amazon.com/es_es/serverless-application-model/latest/developerguide/serverless-sam-cli-install-linux.html)"
   ]
  },
  {
   "cell_type": "markdown",
   "metadata": {},
   "source": [
    "\n",
    "1. Paso 1 - Descargar la aplicacion de muestra\n",
    "   \n",
    "    `sam init`\n",
    "\n",
    "    **seguir las preguntas del asistente pasa inicializar la aplicacion, y estar atento a la pregunta del stack en caso que no tengan la ultima version del runtime**\n",
    "\n",
    "2. Paso 2 - construir nuestra aplicacion\n",
    "    \n",
    "    `cd sam-app && sam build`\n",
    "\n",
    "3. Paso 3 - Desplegar nuestra aplicacion\n",
    "   \n",
    "    `sam deploy --guided`\n",
    "\n",
    "    **seguir las preguntas del asistente pasa desplegar la aplicacion**\n",
    "\n",
    "4. Paso 4 - realizamos las pruebas que sean necesarias\n",
    "   \n",
    "5. Paso 5 - removemos los recursos creados\n",
    "   \n",
    "   `sam delete`\n"
   ]
  }
 ],
 "metadata": {
  "interpreter": {
   "hash": "767d51c1340bd893661ea55ea3124f6de3c7a262a8b4abca0554b478b1e2ff90"
  },
  "kernelspec": {
   "display_name": "Python 3.8.10 64-bit",
   "language": "python",
   "name": "python3"
  },
  "language_info": {
   "codemirror_mode": {
    "name": "ipython",
    "version": 3
   },
   "file_extension": ".py",
   "mimetype": "text/x-python",
   "name": "python",
   "nbconvert_exporter": "python",
   "pygments_lexer": "ipython3",
   "version": "3.8.10"
  }
 },
 "nbformat": 4,
 "nbformat_minor": 2
}
