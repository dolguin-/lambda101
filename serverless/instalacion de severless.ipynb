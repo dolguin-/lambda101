{
 "cells": [
  {
   "cell_type": "markdown",
   "metadata": {},
   "source": [
    "# Lambda 101 - Clase 2"
   ]
  },
  {
   "cell_type": "markdown",
   "metadata": {},
   "source": [
    "En esta clase nos vamos a familiarizar con los dos frameworks mas populares para trabajar con lambda **AWS SAM (Serverless Application Model)** y **Serverless Framework**"
   ]
  },
  {
   "cell_type": "markdown",
   "metadata": {},
   "source": [
    "## Serverless Framework\n",
    "\n",
    "Serverless Framework (de ahora en mas Serverless), es el primer framework de codigo abierto para crear aplicaciones serverless (sin servidor), tiene soporte para multiples providers como y plataformas\n",
    "\n",
    "* AWS\n",
    "* GCP\n",
    "* Azure\n",
    "* Tencent\n",
    "* Alibaba Cloud\n",
    "* Cloudflare\n",
    "* Knative\n",
    "* Fn\n",
    "* Kubeless\n",
    "* OpenWhisk\n",
    "* Spotinst\n",
    "\n",
    "Serverless es extensible via plugins que aportan nuevas funcionalidades y tambien tiene una plataforma propia que se puede utilziar para obtener detalles y observabilidad de la aplicacion serverless.\n",
    "\n",
    "En este curso solo vamos a utilizar la herramienta de linea de comandos."
   ]
  },
  {
   "cell_type": "markdown",
   "metadata": {},
   "source": [
    "## Instalacion de Serverless Cli"
   ]
  },
  {
   "cell_type": "markdown",
   "metadata": {},
   "source": [
    "En esta clase solo vamos a cubrir la instalacion para el sistema operativo Limux\n",
    "\n",
    "Las instrucciones de instalacion para otras plataformas las pueden encontrar en [la documentacion oficial](https://www.serverless.com/framework/docs/getting-started/)\n",
    "\n",
    "**Instalacion**\n",
    "\n",
    "```shell\n",
    "# para instalar serverless framework cli necesitamos disponer de Node en su version LTS mas reciente.\n",
    "npm install -g serverless\n",
    "\n",
    "# verificamos la version\n",
    "serverless -v\n",
    "```"
   ]
  },
  {
   "cell_type": "code",
   "execution_count": null,
   "metadata": {},
   "outputs": [],
   "source": [
    "!echo \"## instalamos Serverless\"\n",
    "!curl -o- -L https://slss.io/install | bash\n",
    "\n",
    "!echo \"## Verificamos la version instalada\"\n",
    "!serverless -v"
   ]
  },
  {
   "cell_type": "markdown",
   "metadata": {},
   "source": [
    "## Tutorial Hola ~~Mundo~~ AWS101\n",
    "\n",
    "Ahora que tenemos sam instalado, vamos a realizar un pequeño tutorial en el que vamos a crear una funcion lambda que nos devuelva un ***Hola ~~Mundo~~ AWS101***\n",
    "\n",
    "*suposiciones*:\n",
    "* se asume que ya se dispone de credenciales de AWS configuradas para que Serverless framework pueda autenticarse con AWS en nuestro nombre, [para informacion de como configurar las credenciales ir a la documentacion de CLI ](https://docs.aws.amazon.com/es_es/cli/latest/userguide/cli-configure-envvars.html)"
   ]
  },
  {
   "cell_type": "code",
   "execution_count": null,
   "metadata": {},
   "outputs": [],
   "source": [
    "!echo \"  ## Paso 1: Creamos nuestra aplicacion serverless\"\n",
    "!serverless create -t aws-python3 --name hola-aws101"
   ]
  },
  {
   "cell_type": "markdown",
   "metadata": {},
   "source": [
    "2. Desplegamos nuestra aplicacion"
   ]
  },
  {
   "cell_type": "code",
   "execution_count": null,
   "metadata": {},
   "outputs": [],
   "source": [
    "!echo \"\t## Paso2 desplegar nuestra aplicacion\"\n",
    "!serverless deploy --aws-profile aws101"
   ]
  },
  {
   "cell_type": "markdown",
   "metadata": {},
   "source": [
    "\n",
    "3. Paso 3 - Verfificamos nostro endpoint desde la terminal\n"
   ]
  },
  {
   "cell_type": "code",
   "execution_count": null,
   "metadata": {},
   "outputs": [],
   "source": [
    "!curl -sS -XGET https://1haoda8onl.execute-api.us-east-1.amazonaws.com/users/create |jq"
   ]
  },
  {
   "cell_type": "markdown",
   "metadata": {},
   "source": [
    "4. Realizamos las pruebas que sean necesarias\n",
    "   \n",
    "   Aqui podemos dedicarnos a probar varias cosas, como por ejemplo modificar los endpoints de apigateway, modificar la salida, etc\n",
    "\n",
    "\n",
    "   **TIP**: si solo modificaron el codigo de la funcion no es necesario que se aplique todo el cloudformation para desplegar el cambio para ello solo pueden desplegar la funcion usando `serverless deploy function -f <<nuestra_funcion>>`"
   ]
  },
  {
   "cell_type": "code",
   "execution_count": null,
   "metadata": {},
   "outputs": [],
   "source": [
    "!serverless deploy function --aws-profile aws101 -f hello\n",
    "!sleep 5\n",
    "!curl -sS -XGET https://1haoda8onl.execute-api.us-east-1.amazonaws.com/users/create |jq"
   ]
  },
  {
   "cell_type": "markdown",
   "metadata": {},
   "source": [
    "5. Paso 5 - removemos los recursos creados"
   ]
  },
  {
   "cell_type": "code",
   "execution_count": null,
   "metadata": {},
   "outputs": [],
   "source": [
    "!serverless remove --aws-profile aws101"
   ]
  }
 ],
 "metadata": {
  "interpreter": {
   "hash": "767d51c1340bd893661ea55ea3124f6de3c7a262a8b4abca0554b478b1e2ff90"
  },
  "kernelspec": {
   "display_name": "Python 3.8.10 64-bit",
   "language": "python",
   "name": "python3"
  },
  "language_info": {
   "codemirror_mode": {
    "name": "ipython",
    "version": 3
   },
   "file_extension": ".py",
   "mimetype": "text/x-python",
   "name": "python",
   "nbconvert_exporter": "python",
   "pygments_lexer": "ipython3",
   "version": "3.8.10"
  }
 },
 "nbformat": 4,
 "nbformat_minor": 2
}
